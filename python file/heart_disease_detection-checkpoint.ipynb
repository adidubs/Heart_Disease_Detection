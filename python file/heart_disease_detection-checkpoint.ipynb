{
 "cells": [
  {
   "cell_type": "code",
   "execution_count": null,
   "id": "f6a5a7a8",
   "metadata": {},
   "outputs": [],
   "source": [
    "import numpy as np\n",
    "import pandas as pd"
   ]
  },
  {
   "cell_type": "markdown",
   "id": "be09bd05",
   "metadata": {},
   "source": [
    "Import the dataset. The dataset \"heart.csv\" is present in the same location as this notebook. If you have placed the downloaded dataset in a different folder, please use the full path."
   ]
  },
  {
   "cell_type": "code",
   "execution_count": null,
   "id": "a9928c62",
   "metadata": {},
   "outputs": [],
   "source": [
    "data = pd.read_csv(\"heart.csv\")"
   ]
  },
  {
   "cell_type": "markdown",
   "id": "170290b7",
   "metadata": {},
   "source": [
    "This is how the first few rows of data looks like."
   ]
  },
  {
   "cell_type": "code",
   "execution_count": null,
   "id": "a0594ec4",
   "metadata": {},
   "outputs": [],
   "source": [
    "data.head()"
   ]
  },
  {
   "cell_type": "code",
   "execution_count": null,
   "id": "8761d8c8",
   "metadata": {},
   "outputs": [],
   "source": [
    "print(\"The dataset contains {} rows and {} columns\".format(data.shape[0], data.shape[1]))"
   ]
  },
  {
   "cell_type": "markdown",
   "id": "d3e2331b",
   "metadata": {},
   "source": [
    "# Data Analysis"
   ]
  },
  {
   "cell_type": "code",
   "execution_count": null,
   "id": "89f8ca3a",
   "metadata": {},
   "outputs": [],
   "source": [
    "# Age\n",
    "print(\"Age ranges from: {} to {}\".format(data['age'].min(), data['age'].max()))"
   ]
  },
  {
   "cell_type": "code",
   "execution_count": null,
   "id": "de2fdf53",
   "metadata": {},
   "outputs": [],
   "source": []
  }
 ],
 "metadata": {
  "kernelspec": {
   "display_name": "Python 3",
   "language": "python",
   "name": "python3"
  },
  "language_info": {
   "codemirror_mode": {
    "name": "ipython",
    "version": 3
   },
   "file_extension": ".py",
   "mimetype": "text/x-python",
   "name": "python",
   "nbconvert_exporter": "python",
   "pygments_lexer": "ipython3",
   "version": "3.8.8"
  }
 },
 "nbformat": 4,
 "nbformat_minor": 5
}
